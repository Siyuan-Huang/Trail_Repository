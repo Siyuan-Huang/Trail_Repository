{
 "cells": [
  {
   "cell_type": "markdown",
   "id": "985786ef",
   "metadata": {},
   "source": [
    "<center>\n",
    "    <img src=\"https://cf-courses-data.s3.us.cloud-object-storage.appdomain.cloud/IBMDeveloperSkillsNetwork-DS0105EN-SkillsNetwork/labs/Module2/images/SN_web_lightmode.png\" width=\"300\" alt=\"cognitiveclass.ai logo\">\n",
    "</center>\n"
   ]
  },
  {
   "cell_type": "markdown",
   "id": "b9e93ad8",
   "metadata": {},
   "source": [
    "#### Add your code below following the instructions given in the course"
   ]
  },
  {
   "cell_type": "markdown",
   "id": "27527246",
   "metadata": {},
   "source": [
    "# Data Science Tools and Ecosystem"
   ]
  },
  {
   "cell_type": "code",
   "execution_count": 30,
   "id": "43cbf418",
   "metadata": {},
   "outputs": [],
   "source": [
    "# Exercise 3 - Create a markdown cell for an introduction"
   ]
  },
  {
   "cell_type": "markdown",
   "id": "e7d5e082",
   "metadata": {},
   "source": [
    "In this notebook, Data Science Tools and Ecosystem are summarized."
   ]
  },
  {
   "cell_type": "markdown",
   "id": "ef188b42",
   "metadata": {},
   "source": [
    " **Objectives:**\n",
    " - List popular languages for Data Science\n",
    " - List commonly used libraries used by Data Scientists\n",
    " - Create a markdown cell to list data science library\n",
    " - Create a markdown cell with a table of Data Science tools\n",
    " - Insert a markdown cell with an unorder list\n"
   ]
  },
  {
   "cell_type": "code",
   "execution_count": 4,
   "id": "f04fef6f",
   "metadata": {},
   "outputs": [],
   "source": [
    "##### Exercise 4 - Create a markdown cell to list data science languages"
   ]
  },
  {
   "cell_type": "markdown",
   "id": "674353f7",
   "metadata": {},
   "source": [
    "Some of the popular languages that Data Scientists use are:\n",
    "1. Python\n",
    "2. R\n",
    "3. Java\n",
    "4. SQL"
   ]
  },
  {
   "cell_type": "code",
   "execution_count": 2,
   "id": "3cd48162",
   "metadata": {},
   "outputs": [],
   "source": [
    "##### Exercise 5 - Create a markdown cell to list data science libraries"
   ]
  },
  {
   "cell_type": "markdown",
   "id": "7a2fe622",
   "metadata": {},
   "source": [
    "Some of the commonly used libraries used by Data Scientists include:\n",
    "1. Numpy\n",
    "2. Matplotlib\n",
    "3. Scikit-learn\n",
    "4. Pandas\n",
    "5. Spark"
   ]
  },
  {
   "cell_type": "code",
   "execution_count": 5,
   "id": "1a13a1d4",
   "metadata": {},
   "outputs": [],
   "source": [
    "##### Exercise 6 - Create a markdown cell with a table of Data Science tools"
   ]
  },
  {
   "cell_type": "markdown",
   "id": "61d12bfe",
   "metadata": {},
   "source": [
    "\n",
    "| Data Science Tools |\n",
    "| ------ \n",
    "| Jupyter Notebook | \n",
    "| RStudio |\n",
    "| Git |"
   ]
  },
  {
   "cell_type": "code",
   "execution_count": 6,
   "id": "116b6c27",
   "metadata": {},
   "outputs": [],
   "source": [
    "# Exercise 7 - Create a markdown cell introducing arithmetic expression examples"
   ]
  },
  {
   "cell_type": "markdown",
   "id": "29b32044",
   "metadata": {},
   "source": [
    "### Below are a few examples of evaluating arithmetic expressions in Python"
   ]
  },
  {
   "cell_type": "code",
   "execution_count": 7,
   "id": "fa410a53",
   "metadata": {},
   "outputs": [],
   "source": [
    "#Exercise 8 - Create a code cell to multiply and add numbers"
   ]
  },
  {
   "cell_type": "code",
   "execution_count": 8,
   "id": "b5f7d03f",
   "metadata": {},
   "outputs": [
    {
     "data": {
      "text/plain": [
       "17"
      ]
     },
     "execution_count": 8,
     "metadata": {},
     "output_type": "execute_result"
    }
   ],
   "source": [
    "#This a simple arithmetic expression to mutiply then add integers\n",
    "(3*4)+5"
   ]
  },
  {
   "cell_type": "code",
   "execution_count": 25,
   "id": "1ab25628",
   "metadata": {},
   "outputs": [
    {
     "name": "stdout",
     "output_type": "stream",
     "text": [
      "Hour= 3.3333333333333335\n"
     ]
    }
   ],
   "source": [
    "# This will convert 200 minutes to hours by diving by 60\n",
    "Min=200\n",
    "Hours=Min/60\n",
    "print('Hour=',Hours)"
   ]
  },
  {
   "cell_type": "markdown",
   "id": "0fa3282c",
   "metadata": {},
   "source": [
    "## Author\n",
    "Siyuan Huang"
   ]
  },
  {
   "cell_type": "code",
   "execution_count": null,
   "id": "8b407c09",
   "metadata": {},
   "outputs": [],
   "source": []
  }
 ],
 "metadata": {
  "kernelspec": {
   "display_name": "Python 3 (ipykernel)",
   "language": "python",
   "name": "python3"
  },
  "language_info": {
   "codemirror_mode": {
    "name": "ipython",
    "version": 3
   },
   "file_extension": ".py",
   "mimetype": "text/x-python",
   "name": "python",
   "nbconvert_exporter": "python",
   "pygments_lexer": "ipython3",
   "version": "3.9.7"
  }
 },
 "nbformat": 4,
 "nbformat_minor": 5
}
