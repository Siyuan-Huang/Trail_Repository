{
 "cells": [
  {
   "cell_type": "markdown",
   "id": "27527246",
   "metadata": {},
   "source": [
    "# Data Science Tools and Ecosystem\n"
   ]
  },
  {
   "cell_type": "code",
   "execution_count": 26,
   "id": "a81bf0a2",
   "metadata": {},
   "outputs": [],
   "source": [
    "# Exercise 3 - Create a markdown cell for an introduction"
   ]
  },
  {
   "cell_type": "markdown",
   "id": "36541d2e",
   "metadata": {},
   "source": [
    "In this notebook, Data Science Tools and Ecosystem are summarized."
   ]
  },
  {
   "cell_type": "markdown",
   "id": "f7b03fdf",
   "metadata": {},
   "source": [
    " **Objectives:**\n",
    " - List popular languages for Data Science\n",
    " - List commonly used libraries used by Data Scientists\n",
    " - Create a markdown cell to list data science library\n",
    " - Create a markdown cell with a table of Data Science tools\n",
    " - Insert a markdown cell with an unorder list\n"
   ]
  },
  {
   "cell_type": "code",
   "execution_count": 4,
   "id": "39f11ac0",
   "metadata": {},
   "outputs": [],
   "source": [
    "##### Exercise 4 - Create a markdown cell to list data science languages"
   ]
  },
  {
   "cell_type": "markdown",
   "id": "c2c81526",
   "metadata": {},
   "source": [
    "Some of the popular languages that Data Scientists use are:\n",
    "1. Python\n",
    "2. R\n",
    "3. Java\n",
    "4. SQL"
   ]
  },
  {
   "cell_type": "code",
   "execution_count": 2,
   "id": "7ebc653d",
   "metadata": {},
   "outputs": [],
   "source": [
    "##### Exercise 5 - Create a markdown cell to list data science libraries"
   ]
  },
  {
   "cell_type": "markdown",
   "id": "5f31f531",
   "metadata": {},
   "source": [
    "Some of the commonly used libraries used by Data Scientists include:\n",
    "1. Numpy\n",
    "2. Matplotlib\n",
    "3. Scikit-learn\n",
    "4. Pandas\n",
    "5. Spark"
   ]
  },
  {
   "cell_type": "code",
   "execution_count": 5,
   "id": "b7aecf42",
   "metadata": {},
   "outputs": [],
   "source": [
    "##### Exercise 6 - Create a markdown cell with a table of Data Science tools"
   ]
  },
  {
   "cell_type": "markdown",
   "id": "7da81968",
   "metadata": {},
   "source": [
    "\n",
    "| Data Science Tools |\n",
    "| ------ \n",
    "| Jupyter Notebook | \n",
    "| RStudio |\n",
    "| Git |"
   ]
  },
  {
   "cell_type": "code",
   "execution_count": 6,
   "id": "12033fb1",
   "metadata": {},
   "outputs": [],
   "source": [
    "# Exercise 7 - Create a markdown cell introducing arithmetic expression examples"
   ]
  },
  {
   "cell_type": "markdown",
   "id": "adbdf3fd",
   "metadata": {},
   "source": [
    "### Below are a few examples of evaluating arithmetic expressions in Python"
   ]
  },
  {
   "cell_type": "code",
   "execution_count": 7,
   "id": "19cada96",
   "metadata": {},
   "outputs": [],
   "source": [
    "#Exercise 8 - Create a code cell to multiply and add numbers"
   ]
  },
  {
   "cell_type": "code",
   "execution_count": 8,
   "id": "63ef88a8",
   "metadata": {},
   "outputs": [
    {
     "data": {
      "text/plain": [
       "17"
      ]
     },
     "execution_count": 8,
     "metadata": {},
     "output_type": "execute_result"
    }
   ],
   "source": [
    "#This a simple arithmetic expression to mutiply then add integers\n",
    "(3*4)+5"
   ]
  },
  {
   "cell_type": "code",
   "execution_count": 25,
   "id": "45ca82f0",
   "metadata": {},
   "outputs": [
    {
     "name": "stdout",
     "output_type": "stream",
     "text": [
      "Hour= 3.3333333333333335\n"
     ]
    }
   ],
   "source": [
    "# This will convert 200 minutes to hours by diving by 60\n",
    "Min=200\n",
    "Hours=Min/60\n",
    "print('Hour=',Hours)"
   ]
  },
  {
   "cell_type": "markdown",
   "id": "9f1008c8",
   "metadata": {},
   "source": [
    "## Author\n",
    "Siyuan Huang"
   ]
  },
  {
   "cell_type": "code",
   "execution_count": null,
   "id": "884edf0e",
   "metadata": {},
   "outputs": [],
   "source": []
  }
 ],
 "metadata": {
  "kernelspec": {
   "display_name": "Python 3 (ipykernel)",
   "language": "python",
   "name": "python3"
  },
  "language_info": {
   "codemirror_mode": {
    "name": "ipython",
    "version": 3
   },
   "file_extension": ".py",
   "mimetype": "text/x-python",
   "name": "python",
   "nbconvert_exporter": "python",
   "pygments_lexer": "ipython3",
   "version": "3.9.7"
  }
 },
 "nbformat": 4,
 "nbformat_minor": 5
}
